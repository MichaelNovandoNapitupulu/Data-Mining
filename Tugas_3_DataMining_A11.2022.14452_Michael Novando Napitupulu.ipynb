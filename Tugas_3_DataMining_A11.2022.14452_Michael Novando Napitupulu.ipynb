{
  "nbformat": 4,
  "nbformat_minor": 0,
  "metadata": {
    "colab": {
      "provenance": [],
      "gpuType": "T4"
    },
    "kernelspec": {
      "name": "python3",
      "display_name": "Python 3"
    },
    "language_info": {
      "name": "python"
    }
  },
  "cells": [
    {
      "cell_type": "code",
      "source": [
        "import numpy as np\n",
        "import matplotlib.pyplot as plt\n",
        "import pandas as pd"
      ],
      "metadata": {
        "id": "FCicQbrbN24P"
      },
      "execution_count": 67,
      "outputs": []
    },
    {
      "cell_type": "code",
      "source": [
        "dataset = pd.read_csv('dataset.csv')\n",
        "x = dataset.iloc[:, :-1].values\n",
        "y = dataset.iloc[:, -1].values"
      ],
      "metadata": {
        "id": "EIAycjOR2yEJ"
      },
      "execution_count": 78,
      "outputs": []
    },
    {
      "cell_type": "code",
      "source": [
        "print(x)"
      ],
      "metadata": {
        "colab": {
          "base_uri": "https://localhost:8080/"
        },
        "id": "I8TRDTXq4ZXq",
        "outputId": "160acd87-eb72-4ea3-dbf3-ef6585f14e22"
      },
      "execution_count": 79,
      "outputs": [
        {
          "output_type": "stream",
          "name": "stdout",
          "text": [
            "[['Spain' nan 48000.0]\n",
            " ['Germany' 33.0 54000.0]\n",
            " ['France' 35.0 nan]\n",
            " ['Thailand' 50.0 89000.0]\n",
            " ['Korea' nan 75000.0]\n",
            " ['Singapore' 47.0 90000.0]\n",
            " ['Spain' 52.0 50000.0]\n",
            " ['Germany' 42.0 65000.0]\n",
            " ['France' 38.0 79000.0]\n",
            " ['Korea' 55.0 nan]\n",
            " ['Singapore' 41.0 53000.0]\n",
            " ['Indonesia' 49.0 49000.0]\n",
            " ['Thailand' 58.0 38000.0]]\n"
          ]
        }
      ]
    },
    {
      "cell_type": "code",
      "source": [
        "print(y)"
      ],
      "metadata": {
        "colab": {
          "base_uri": "https://localhost:8080/"
        },
        "id": "T-IeBbEM134H",
        "outputId": "fb63f29b-a6cc-4b91-b412-c046d52b5051"
      },
      "execution_count": 80,
      "outputs": [
        {
          "output_type": "stream",
          "name": "stdout",
          "text": [
            "['Yes' 'Yes' 'No' 'Yes' 'Yes' 'Yes' 'No' 'Yes' 'No' 'Yes' 'No' 'Yes' 'No']\n"
          ]
        }
      ]
    },
    {
      "cell_type": "code",
      "source": [
        "from sklearn.impute import SimpleImputer\n",
        "imputer = SimpleImputer(missing_values=np.nan, strategy='mean')\n",
        "imputer.fit(x[:, 1:3])\n",
        "x[:, 1:3] = imputer.transform(x[:,1:3])\n"
      ],
      "metadata": {
        "id": "o0iOjeZq4s0p"
      },
      "execution_count": 81,
      "outputs": []
    },
    {
      "cell_type": "code",
      "source": [
        "print(x)"
      ],
      "metadata": {
        "colab": {
          "base_uri": "https://localhost:8080/"
        },
        "id": "pnEpCap-4wEd",
        "outputId": "88fe3028-3c84-4b52-a6f4-b260b5ecea0a"
      },
      "execution_count": 82,
      "outputs": [
        {
          "output_type": "stream",
          "name": "stdout",
          "text": [
            "[['Spain' 45.45454545454545 48000.0]\n",
            " ['Germany' 33.0 54000.0]\n",
            " ['France' 35.0 62727.27272727273]\n",
            " ['Thailand' 50.0 89000.0]\n",
            " ['Korea' 45.45454545454545 75000.0]\n",
            " ['Singapore' 47.0 90000.0]\n",
            " ['Spain' 52.0 50000.0]\n",
            " ['Germany' 42.0 65000.0]\n",
            " ['France' 38.0 79000.0]\n",
            " ['Korea' 55.0 62727.27272727273]\n",
            " ['Singapore' 41.0 53000.0]\n",
            " ['Indonesia' 49.0 49000.0]\n",
            " ['Thailand' 58.0 38000.0]]\n"
          ]
        }
      ]
    },
    {
      "cell_type": "code",
      "source": [
        "from sklearn.compose import ColumnTransformer\n",
        "from sklearn.preprocessing import OneHotEncoder\n",
        "ct = ColumnTransformer(transformers=[('encoder', OneHotEncoder(), [0])], remainder='passthrough')\n",
        "x = np.array(ct.fit_transform(x))\n"
      ],
      "metadata": {
        "id": "MPq1UT8l5FR5"
      },
      "execution_count": 83,
      "outputs": []
    },
    {
      "cell_type": "code",
      "source": [
        "print(x)"
      ],
      "metadata": {
        "colab": {
          "base_uri": "https://localhost:8080/"
        },
        "id": "5ylX5le95IFC",
        "outputId": "9f125c9d-5896-4410-8bde-f6d3b28df8d4"
      },
      "execution_count": 84,
      "outputs": [
        {
          "output_type": "stream",
          "name": "stdout",
          "text": [
            "[[0.0 0.0 0.0 0.0 0.0 1.0 0.0 45.45454545454545 48000.0]\n",
            " [0.0 1.0 0.0 0.0 0.0 0.0 0.0 33.0 54000.0]\n",
            " [1.0 0.0 0.0 0.0 0.0 0.0 0.0 35.0 62727.27272727273]\n",
            " [0.0 0.0 0.0 0.0 0.0 0.0 1.0 50.0 89000.0]\n",
            " [0.0 0.0 0.0 1.0 0.0 0.0 0.0 45.45454545454545 75000.0]\n",
            " [0.0 0.0 0.0 0.0 1.0 0.0 0.0 47.0 90000.0]\n",
            " [0.0 0.0 0.0 0.0 0.0 1.0 0.0 52.0 50000.0]\n",
            " [0.0 1.0 0.0 0.0 0.0 0.0 0.0 42.0 65000.0]\n",
            " [1.0 0.0 0.0 0.0 0.0 0.0 0.0 38.0 79000.0]\n",
            " [0.0 0.0 0.0 1.0 0.0 0.0 0.0 55.0 62727.27272727273]\n",
            " [0.0 0.0 0.0 0.0 1.0 0.0 0.0 41.0 53000.0]\n",
            " [0.0 0.0 1.0 0.0 0.0 0.0 0.0 49.0 49000.0]\n",
            " [0.0 0.0 0.0 0.0 0.0 0.0 1.0 58.0 38000.0]]\n"
          ]
        }
      ]
    },
    {
      "cell_type": "code",
      "source": [
        "from sklearn.preprocessing import LabelEncoder\n",
        "le = LabelEncoder()\n",
        "y = le.fit_transform(y)\n"
      ],
      "metadata": {
        "id": "Z9zp2vcw5MM9"
      },
      "execution_count": 85,
      "outputs": []
    },
    {
      "cell_type": "code",
      "source": [
        "print(y)"
      ],
      "metadata": {
        "colab": {
          "base_uri": "https://localhost:8080/"
        },
        "id": "j4RKnbuI5QeP",
        "outputId": "1d461777-e516-442f-8932-4e875629f52f"
      },
      "execution_count": 86,
      "outputs": [
        {
          "output_type": "stream",
          "name": "stdout",
          "text": [
            "[1 1 0 1 1 1 0 1 0 1 0 1 0]\n"
          ]
        }
      ]
    },
    {
      "cell_type": "code",
      "source": [
        "from sklearn.model_selection import train_test_split\n",
        "x_train, x_test, y_train, y_test =train_test_split(x,y, test_size=0.2, random_state=1)"
      ],
      "metadata": {
        "id": "hWo2BCp95WO9"
      },
      "execution_count": 87,
      "outputs": []
    },
    {
      "cell_type": "code",
      "source": [
        "print(x_train)"
      ],
      "metadata": {
        "colab": {
          "base_uri": "https://localhost:8080/"
        },
        "id": "23_L0thS5ZiI",
        "outputId": "e552adba-2b3a-4510-c575-10e971c13562"
      },
      "execution_count": 88,
      "outputs": [
        {
          "output_type": "stream",
          "name": "stdout",
          "text": [
            "[[0.0 0.0 0.0 0.0 1.0 0.0 0.0 41.0 53000.0]\n",
            " [0.0 1.0 0.0 0.0 0.0 0.0 0.0 33.0 54000.0]\n",
            " [0.0 0.0 0.0 0.0 0.0 1.0 0.0 52.0 50000.0]\n",
            " [0.0 0.0 0.0 0.0 0.0 1.0 0.0 45.45454545454545 48000.0]\n",
            " [0.0 1.0 0.0 0.0 0.0 0.0 0.0 42.0 65000.0]\n",
            " [0.0 0.0 0.0 0.0 0.0 0.0 1.0 58.0 38000.0]\n",
            " [0.0 0.0 0.0 1.0 0.0 0.0 0.0 55.0 62727.27272727273]\n",
            " [1.0 0.0 0.0 0.0 0.0 0.0 0.0 38.0 79000.0]\n",
            " [0.0 0.0 1.0 0.0 0.0 0.0 0.0 49.0 49000.0]\n",
            " [0.0 0.0 0.0 0.0 1.0 0.0 0.0 47.0 90000.0]]\n"
          ]
        }
      ]
    },
    {
      "cell_type": "code",
      "source": [
        "print(x_test)"
      ],
      "metadata": {
        "colab": {
          "base_uri": "https://localhost:8080/"
        },
        "id": "w4lRiNJ75emA",
        "outputId": "124c52ad-5c33-455f-c2b1-0bb3b565f1cf"
      },
      "execution_count": 89,
      "outputs": [
        {
          "output_type": "stream",
          "name": "stdout",
          "text": [
            "[[1.0 0.0 0.0 0.0 0.0 0.0 0.0 35.0 62727.27272727273]\n",
            " [0.0 0.0 0.0 0.0 0.0 0.0 1.0 50.0 89000.0]\n",
            " [0.0 0.0 0.0 1.0 0.0 0.0 0.0 45.45454545454545 75000.0]]\n"
          ]
        }
      ]
    },
    {
      "cell_type": "code",
      "source": [
        "print(y_train)"
      ],
      "metadata": {
        "colab": {
          "base_uri": "https://localhost:8080/"
        },
        "id": "iB_v-hWr5jpH",
        "outputId": "b5ea546b-ed35-429d-bbc8-eb96df9bbdda"
      },
      "execution_count": 90,
      "outputs": [
        {
          "output_type": "stream",
          "name": "stdout",
          "text": [
            "[0 1 0 1 1 0 1 0 1 1]\n"
          ]
        }
      ]
    },
    {
      "cell_type": "code",
      "source": [
        "print(y_test)"
      ],
      "metadata": {
        "colab": {
          "base_uri": "https://localhost:8080/"
        },
        "id": "epwPjn565nsn",
        "outputId": "8f349771-c0be-4616-ef76-eabd545d8f9d"
      },
      "execution_count": 91,
      "outputs": [
        {
          "output_type": "stream",
          "name": "stdout",
          "text": [
            "[0 1 1]\n"
          ]
        }
      ]
    },
    {
      "cell_type": "code",
      "source": [
        "\n",
        "from sklearn.preprocessing import StandardScaler\n",
        "sc = StandardScaler()\n",
        "x_train[:, 3:] = sc.fit_transform(x_train[:, 3:])\n",
        "x_test[:, 3:] = sc.transform(x_test[:, 3:])\n"
      ],
      "metadata": {
        "id": "R9cguUjf5rJ_"
      },
      "execution_count": 92,
      "outputs": []
    },
    {
      "cell_type": "code",
      "source": [
        "print(x_train)"
      ],
      "metadata": {
        "id": "VkQSco0Z5vAA",
        "outputId": "82d6c9ad-be55-40bd-ba46-b0517183f449",
        "colab": {
          "base_uri": "https://localhost:8080/"
        }
      },
      "execution_count": 93,
      "outputs": [
        {
          "output_type": "stream",
          "name": "stdout",
          "text": [
            "[[0.0 0.0 0.0 -0.3333333333333333 1.9999999999999998 -0.49999999999999994\n",
            "  -0.3333333333333333 -0.683269074038741 -0.3946202631638938]\n",
            " [0.0 1.0 0.0 -0.3333333333333333 -0.49999999999999994\n",
            "  -0.49999999999999994 -0.3333333333333333 -1.7666506689109789\n",
            "  -0.3274248623155528]\n",
            " [0.0 0.0 0.0 -0.3333333333333333 -0.49999999999999994 1.9999999999999998\n",
            "  -0.3333333333333333 0.806380618910586 -0.596206465708917]\n",
            " [0.0 0.0 0.0 -0.3333333333333333 -0.49999999999999994 1.9999999999999998\n",
            "  -0.3333333333333333 -0.08002250416669973 -0.7305972674055992]\n",
            " [0.0 1.0 0.0 -0.3333333333333333 -0.49999999999999994\n",
            "  -0.49999999999999994 -0.3333333333333333 -0.5478463746797113\n",
            "  0.4117245470161989]\n",
            " [0.0 0.0 0.0 -0.3333333333333333 -0.49999999999999994\n",
            "  -0.49999999999999994 2.9999999999999996 1.6189168150647644\n",
            "  -1.4025512758890097]\n",
            " [0.0 0.0 0.0 2.9999999999999996 -0.49999999999999994\n",
            "  -0.49999999999999994 -0.3333333333333333 1.2126487169876752\n",
            "  0.2590077269063329]\n",
            " [1.0 0.0 0.0 -0.3333333333333333 -0.49999999999999994\n",
            "  -0.49999999999999994 -0.3333333333333333 -1.0895371721158302\n",
            "  1.3524601588929739]\n",
            " [0.0 0.0 1.0 -0.3333333333333333 -0.49999999999999994\n",
            "  -0.49999999999999994 -0.3333333333333333 0.40011252083349674\n",
            "  -0.6634018665572581]\n",
            " [0.0 0.0 0.0 -0.3333333333333333 1.9999999999999998 -0.49999999999999994\n",
            "  -0.3333333333333333 0.12926712211543728 2.0916095682247255]]\n"
          ]
        }
      ]
    },
    {
      "cell_type": "code",
      "source": [
        "print(x_test)"
      ],
      "metadata": {
        "id": "8FePY9pY5w-D",
        "outputId": "6d5cab98-c6eb-48e5-edc5-fbdf7f5e39a3",
        "colab": {
          "base_uri": "https://localhost:8080/"
        }
      },
      "execution_count": 94,
      "outputs": [
        {
          "output_type": "stream",
          "name": "stdout",
          "text": [
            "[[1.0 0.0 0.0 -0.3333333333333333 -0.49999999999999994\n",
            "  -0.49999999999999994 -0.3333333333333333 -1.4958052701929194\n",
            "  0.2590077269063329]\n",
            " [0.0 0.0 0.0 -0.3333333333333333 -0.49999999999999994\n",
            "  -0.49999999999999994 2.9999999999999996 0.5355352201925265\n",
            "  2.0244141673763845]\n",
            " [0.0 0.0 0.0 2.9999999999999996 -0.49999999999999994\n",
            "  -0.49999999999999994 -0.3333333333333333 -0.08002250416669973\n",
            "  1.0836785554996096]]\n"
          ]
        }
      ]
    }
  ]
}